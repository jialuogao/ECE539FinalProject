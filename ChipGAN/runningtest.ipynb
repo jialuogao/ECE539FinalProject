{
  "nbformat": 4,
  "nbformat_minor": 0,
  "metadata": {
    "colab": {
      "name": "runningtest.ipynb",
      "provenance": [],
      "collapsed_sections": []
    },
    "kernelspec": {
      "name": "python3",
      "display_name": "Python 3"
    },
    "accelerator": "GPU"
  },
  "cells": [
    {
      "cell_type": "code",
      "metadata": {
        "id": "u1Hwx5iOBbji"
      },
      "source": [
        "!git clone \"https://github.com/jialuogao/ECE539FinalProject.git\""
      ],
      "execution_count": null,
      "outputs": []
    },
    {
      "cell_type": "code",
      "metadata": {
        "id": "DG3PMWFmFmjK"
      },
      "source": [
        "! git pull"
      ],
      "execution_count": null,
      "outputs": []
    },
    {
      "cell_type": "markdown",
      "metadata": {
        "id": "B6iX6qqEeMKC"
      },
      "source": [
        "Upload dataset and unzip"
      ]
    },
    {
      "cell_type": "code",
      "metadata": {
        "id": "khnJvG4DIRqJ"
      },
      "source": [
        "%cd /content/ECE539FinalProject/ChipGAN/datasets/\n",
        "!rm -rf test_latest/\n",
        "!unzip ../../../horse.zip\n",
        "!ls"
      ],
      "execution_count": null,
      "outputs": []
    },
    {
      "cell_type": "code",
      "metadata": {
        "id": "nIYXepB2DRW_"
      },
      "source": [
        "! pip2 install dominate\n",
        "! pip2 install visdom"
      ],
      "execution_count": null,
      "outputs": []
    },
    {
      "cell_type": "markdown",
      "metadata": {
        "id": "3YbFC4kTnejj"
      },
      "source": [
        "Run code, remember to change dataroot and name"
      ]
    },
    {
      "cell_type": "code",
      "metadata": {
        "id": "wj6esttFCvaO"
      },
      "source": [
        "%cd /content/ECE539FinalProject/ChipGAN/\n",
        "!CUDA_VISIBLE_DEVICES=0 python2 train.py --dataroot  ./datasets/horse/  --name horse_chipgan --model cycle_gan --no_dropout --display_port 8103 --display_freq 10 --lambda_sup 10 --lambda_A 10 --lambda_B 10 --start_dec_sup 150 --lambda_ink 0.05 --loadSize 286 --fineSize 256"
      ],
      "execution_count": null,
      "outputs": []
    },
    {
      "cell_type": "markdown",
      "metadata": {
        "id": "kAoFQxFGgNbg"
      },
      "source": [
        "Run test remember to change dataroot and name"
      ]
    },
    {
      "cell_type": "code",
      "metadata": {
        "id": "CQeGxCOPgbcf"
      },
      "source": [
        "%cd /content/ECE539FinalProject/ChipGAN/\n",
        "!python2 test.py --dataroot ./datasets/horse --name horse_chipgan --model cycle_gan --no_dropout  --how_many 90  --loadSize 256"
      ],
      "execution_count": null,
      "outputs": []
    }
  ]
}